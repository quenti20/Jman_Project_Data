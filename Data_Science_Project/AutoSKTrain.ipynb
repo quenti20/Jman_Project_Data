{
 "cells": [
  {
   "cell_type": "code",
   "execution_count": 23,
   "id": "8dddd4ad-1830-4cca-bd4c-6451c3da7e86",
   "metadata": {},
   "outputs": [],
   "source": [
    "import numpy as np\n",
    "import pandas as pd"
   ]
  },
  {
   "cell_type": "code",
   "execution_count": 24,
   "id": "7918a5d0-5603-4836-9b93-ec7a397fb652",
   "metadata": {},
   "outputs": [
    {
     "data": {
      "text/html": [
       "<div>\n",
       "<style scoped>\n",
       "    .dataframe tbody tr th:only-of-type {\n",
       "        vertical-align: middle;\n",
       "    }\n",
       "\n",
       "    .dataframe tbody tr th {\n",
       "        vertical-align: top;\n",
       "    }\n",
       "\n",
       "    .dataframe thead th {\n",
       "        text-align: right;\n",
       "    }\n",
       "</style>\n",
       "<table border=\"1\" class=\"dataframe\">\n",
       "  <thead>\n",
       "    <tr style=\"text-align: right;\">\n",
       "      <th></th>\n",
       "      <th>Session_id</th>\n",
       "      <th>Training_name</th>\n",
       "      <th>Trainer_name</th>\n",
       "      <th>Start_time</th>\n",
       "      <th>End_time</th>\n",
       "      <th>Duration</th>\n",
       "      <th>UserType</th>\n",
       "      <th>Status</th>\n",
       "    </tr>\n",
       "  </thead>\n",
       "  <tbody>\n",
       "    <tr>\n",
       "      <th>0</th>\n",
       "      <td>66190350145643268cbde9e9</td>\n",
       "      <td>SQL</td>\n",
       "      <td>Satyam Pandey S</td>\n",
       "      <td>2024-04-12 09:39:00</td>\n",
       "      <td>2024-04-12 12:29:00</td>\n",
       "      <td>170</td>\n",
       "      <td>Employee</td>\n",
       "      <td>Not Completed</td>\n",
       "    </tr>\n",
       "    <tr>\n",
       "      <th>1</th>\n",
       "      <td>66190350145643268cbde9ea</td>\n",
       "      <td>DevOps Operations</td>\n",
       "      <td>Anto Arokia Mary N L</td>\n",
       "      <td>2024-04-12 06:56:00</td>\n",
       "      <td>2024-04-12 07:56:00</td>\n",
       "      <td>60</td>\n",
       "      <td>Intern</td>\n",
       "      <td>Completed</td>\n",
       "    </tr>\n",
       "    <tr>\n",
       "      <th>2</th>\n",
       "      <td>66190350145643268cbde9eb</td>\n",
       "      <td>UI / UX Concept Figma</td>\n",
       "      <td>Hariharan N</td>\n",
       "      <td>2024-04-12 10:48:00</td>\n",
       "      <td>2024-04-12 10:51:00</td>\n",
       "      <td>3</td>\n",
       "      <td>Employee</td>\n",
       "      <td>Completed</td>\n",
       "    </tr>\n",
       "    <tr>\n",
       "      <th>3</th>\n",
       "      <td>66190350145643268cbde9ec</td>\n",
       "      <td>Git &amp; Version Control</td>\n",
       "      <td>Gayathri G S</td>\n",
       "      <td>2024-04-12 09:43:00</td>\n",
       "      <td>2024-04-12 10:34:00</td>\n",
       "      <td>51</td>\n",
       "      <td>Intern</td>\n",
       "      <td>Completed</td>\n",
       "    </tr>\n",
       "    <tr>\n",
       "      <th>4</th>\n",
       "      <td>66190350145643268cbde9ed</td>\n",
       "      <td>Quality Assurance Basics</td>\n",
       "      <td>Sivamalini V</td>\n",
       "      <td>2024-04-12 00:55:00</td>\n",
       "      <td>2024-04-12 00:53:00</td>\n",
       "      <td>-2</td>\n",
       "      <td>Employee</td>\n",
       "      <td>Completed</td>\n",
       "    </tr>\n",
       "  </tbody>\n",
       "</table>\n",
       "</div>"
      ],
      "text/plain": [
       "                 Session_id             Training_name          Trainer_name  \\\n",
       "0  66190350145643268cbde9e9                       SQL       Satyam Pandey S   \n",
       "1  66190350145643268cbde9ea         DevOps Operations  Anto Arokia Mary N L   \n",
       "2  66190350145643268cbde9eb     UI / UX Concept Figma           Hariharan N   \n",
       "3  66190350145643268cbde9ec     Git & Version Control          Gayathri G S   \n",
       "4  66190350145643268cbde9ed  Quality Assurance Basics          Sivamalini V   \n",
       "\n",
       "            Start_time             End_time  Duration  UserType         Status  \n",
       "0  2024-04-12 09:39:00  2024-04-12 12:29:00       170  Employee  Not Completed  \n",
       "1  2024-04-12 06:56:00  2024-04-12 07:56:00        60    Intern      Completed  \n",
       "2  2024-04-12 10:48:00  2024-04-12 10:51:00         3  Employee      Completed  \n",
       "3  2024-04-12 09:43:00  2024-04-12 10:34:00        51    Intern      Completed  \n",
       "4  2024-04-12 00:55:00  2024-04-12 00:53:00        -2  Employee      Completed  "
      ]
     },
     "execution_count": 24,
     "metadata": {},
     "output_type": "execute_result"
    }
   ],
   "source": [
    "df = pd.read_csv('training_data_trainer_refactored.csv')\n",
    "df.head()"
   ]
  },
  {
   "cell_type": "code",
   "execution_count": 25,
   "id": "eaf519b0-f363-4d19-9740-8f039356ad40",
   "metadata": {},
   "outputs": [
    {
     "data": {
      "text/html": [
       "<div>\n",
       "<style scoped>\n",
       "    .dataframe tbody tr th:only-of-type {\n",
       "        vertical-align: middle;\n",
       "    }\n",
       "\n",
       "    .dataframe tbody tr th {\n",
       "        vertical-align: top;\n",
       "    }\n",
       "\n",
       "    .dataframe thead th {\n",
       "        text-align: right;\n",
       "    }\n",
       "</style>\n",
       "<table border=\"1\" class=\"dataframe\">\n",
       "  <thead>\n",
       "    <tr style=\"text-align: right;\">\n",
       "      <th></th>\n",
       "      <th>Training_name</th>\n",
       "      <th>Trainer_name</th>\n",
       "      <th>Duration</th>\n",
       "      <th>UserType</th>\n",
       "      <th>Status</th>\n",
       "    </tr>\n",
       "  </thead>\n",
       "  <tbody>\n",
       "    <tr>\n",
       "      <th>0</th>\n",
       "      <td>SQL</td>\n",
       "      <td>Satyam Pandey S</td>\n",
       "      <td>170</td>\n",
       "      <td>Employee</td>\n",
       "      <td>Not Completed</td>\n",
       "    </tr>\n",
       "    <tr>\n",
       "      <th>1</th>\n",
       "      <td>DevOps Operations</td>\n",
       "      <td>Anto Arokia Mary N L</td>\n",
       "      <td>60</td>\n",
       "      <td>Intern</td>\n",
       "      <td>Completed</td>\n",
       "    </tr>\n",
       "    <tr>\n",
       "      <th>2</th>\n",
       "      <td>UI / UX Concept Figma</td>\n",
       "      <td>Hariharan N</td>\n",
       "      <td>3</td>\n",
       "      <td>Employee</td>\n",
       "      <td>Completed</td>\n",
       "    </tr>\n",
       "    <tr>\n",
       "      <th>3</th>\n",
       "      <td>Git &amp; Version Control</td>\n",
       "      <td>Gayathri G S</td>\n",
       "      <td>51</td>\n",
       "      <td>Intern</td>\n",
       "      <td>Completed</td>\n",
       "    </tr>\n",
       "    <tr>\n",
       "      <th>4</th>\n",
       "      <td>Quality Assurance Basics</td>\n",
       "      <td>Sivamalini V</td>\n",
       "      <td>-2</td>\n",
       "      <td>Employee</td>\n",
       "      <td>Completed</td>\n",
       "    </tr>\n",
       "  </tbody>\n",
       "</table>\n",
       "</div>"
      ],
      "text/plain": [
       "              Training_name          Trainer_name  Duration  UserType  \\\n",
       "0                       SQL       Satyam Pandey S       170  Employee   \n",
       "1         DevOps Operations  Anto Arokia Mary N L        60    Intern   \n",
       "2     UI / UX Concept Figma           Hariharan N         3  Employee   \n",
       "3     Git & Version Control          Gayathri G S        51    Intern   \n",
       "4  Quality Assurance Basics          Sivamalini V        -2  Employee   \n",
       "\n",
       "          Status  \n",
       "0  Not Completed  \n",
       "1      Completed  \n",
       "2      Completed  \n",
       "3      Completed  \n",
       "4      Completed  "
      ]
     },
     "execution_count": 25,
     "metadata": {},
     "output_type": "execute_result"
    }
   ],
   "source": [
    "cols_to_drop = ['Session_id', 'Start_time', 'End_time']\n",
    "\n",
    "for col in cols_to_drop:\n",
    "    if col in df.columns:\n",
    "        df.drop(columns=[col], inplace=True)\n",
    "\n",
    "df.head()"
   ]
  },
  {
   "cell_type": "code",
   "execution_count": 27,
   "id": "49769013-4d08-45e1-a848-00054b132b6c",
   "metadata": {},
   "outputs": [
    {
     "data": {
      "text/html": [
       "<div>\n",
       "<style scoped>\n",
       "    .dataframe tbody tr th:only-of-type {\n",
       "        vertical-align: middle;\n",
       "    }\n",
       "\n",
       "    .dataframe tbody tr th {\n",
       "        vertical-align: top;\n",
       "    }\n",
       "\n",
       "    .dataframe thead th {\n",
       "        text-align: right;\n",
       "    }\n",
       "</style>\n",
       "<table border=\"1\" class=\"dataframe\">\n",
       "  <thead>\n",
       "    <tr style=\"text-align: right;\">\n",
       "      <th></th>\n",
       "      <th>Training_name</th>\n",
       "      <th>Trainer_name</th>\n",
       "      <th>Duration</th>\n",
       "      <th>UserType</th>\n",
       "      <th>Status</th>\n",
       "    </tr>\n",
       "  </thead>\n",
       "  <tbody>\n",
       "    <tr>\n",
       "      <th>0</th>\n",
       "      <td>9</td>\n",
       "      <td>48</td>\n",
       "      <td>170</td>\n",
       "      <td>0</td>\n",
       "      <td>1</td>\n",
       "    </tr>\n",
       "    <tr>\n",
       "      <th>1</th>\n",
       "      <td>3</td>\n",
       "      <td>5</td>\n",
       "      <td>60</td>\n",
       "      <td>1</td>\n",
       "      <td>0</td>\n",
       "    </tr>\n",
       "    <tr>\n",
       "      <th>2</th>\n",
       "      <td>11</td>\n",
       "      <td>19</td>\n",
       "      <td>3</td>\n",
       "      <td>0</td>\n",
       "      <td>0</td>\n",
       "    </tr>\n",
       "    <tr>\n",
       "      <th>3</th>\n",
       "      <td>4</td>\n",
       "      <td>16</td>\n",
       "      <td>51</td>\n",
       "      <td>1</td>\n",
       "      <td>0</td>\n",
       "    </tr>\n",
       "    <tr>\n",
       "      <th>4</th>\n",
       "      <td>7</td>\n",
       "      <td>51</td>\n",
       "      <td>-2</td>\n",
       "      <td>0</td>\n",
       "      <td>0</td>\n",
       "    </tr>\n",
       "  </tbody>\n",
       "</table>\n",
       "</div>"
      ],
      "text/plain": [
       "   Training_name  Trainer_name  Duration  UserType  Status\n",
       "0              9            48       170         0       1\n",
       "1              3             5        60         1       0\n",
       "2             11            19         3         0       0\n",
       "3              4            16        51         1       0\n",
       "4              7            51        -2         0       0"
      ]
     },
     "execution_count": 27,
     "metadata": {},
     "output_type": "execute_result"
    }
   ],
   "source": [
    "from sklearn.preprocessing import LabelEncoder\n",
    "\n",
    "label_encoder = LabelEncoder()\n",
    "categorical_cols = ['Training_name','Trainer_name','UserType','Status','Trainer_name']\n",
    "\n",
    "for col in categorical_cols:\n",
    "    df[col] = label_encoder.fit_transform(df[col])\n",
    "\n",
    "df.head()"
   ]
  },
  {
   "cell_type": "code",
   "execution_count": 28,
   "id": "1a105724-1528-4d86-a0cb-288d70ad91a4",
   "metadata": {},
   "outputs": [
    {
     "data": {
      "text/html": [
       "<div>\n",
       "<style scoped>\n",
       "    .dataframe tbody tr th:only-of-type {\n",
       "        vertical-align: middle;\n",
       "    }\n",
       "\n",
       "    .dataframe tbody tr th {\n",
       "        vertical-align: top;\n",
       "    }\n",
       "\n",
       "    .dataframe thead th {\n",
       "        text-align: right;\n",
       "    }\n",
       "</style>\n",
       "<table border=\"1\" class=\"dataframe\">\n",
       "  <thead>\n",
       "    <tr style=\"text-align: right;\">\n",
       "      <th></th>\n",
       "      <th>Training_name</th>\n",
       "      <th>Trainer_name</th>\n",
       "      <th>UserType</th>\n",
       "      <th>Status</th>\n",
       "    </tr>\n",
       "  </thead>\n",
       "  <tbody>\n",
       "    <tr>\n",
       "      <th>0</th>\n",
       "      <td>9</td>\n",
       "      <td>48</td>\n",
       "      <td>0</td>\n",
       "      <td>1</td>\n",
       "    </tr>\n",
       "    <tr>\n",
       "      <th>1</th>\n",
       "      <td>3</td>\n",
       "      <td>5</td>\n",
       "      <td>1</td>\n",
       "      <td>0</td>\n",
       "    </tr>\n",
       "    <tr>\n",
       "      <th>2</th>\n",
       "      <td>11</td>\n",
       "      <td>19</td>\n",
       "      <td>0</td>\n",
       "      <td>0</td>\n",
       "    </tr>\n",
       "    <tr>\n",
       "      <th>3</th>\n",
       "      <td>4</td>\n",
       "      <td>16</td>\n",
       "      <td>1</td>\n",
       "      <td>0</td>\n",
       "    </tr>\n",
       "    <tr>\n",
       "      <th>4</th>\n",
       "      <td>7</td>\n",
       "      <td>51</td>\n",
       "      <td>0</td>\n",
       "      <td>0</td>\n",
       "    </tr>\n",
       "  </tbody>\n",
       "</table>\n",
       "</div>"
      ],
      "text/plain": [
       "   Training_name  Trainer_name  UserType  Status\n",
       "0              9            48         0       1\n",
       "1              3             5         1       0\n",
       "2             11            19         0       0\n",
       "3              4            16         1       0\n",
       "4              7            51         0       0"
      ]
     },
     "execution_count": 28,
     "metadata": {},
     "output_type": "execute_result"
    }
   ],
   "source": [
    "# Split data into features (X) and target variable (y)\n",
    "X = df.drop([ 'Duration'],axis  = 1)  # Excluding 'START_DATE' and 'END_DATE'\n",
    "y = df['Duration']\n",
    "X.head()"
   ]
  },
  {
   "cell_type": "code",
   "execution_count": 1,
   "id": "2ffa92c8-f5a2-417f-bb45-60142bbba54f",
   "metadata": {},
   "outputs": [],
   "source": [
    "from sklearn.model_selection import train_test_split\n",
    "from sklearn.metrics import mean_absolute_error,r2_score,mean_squared_error\n",
    "from autosklearn.regression import AutoSklearnRegressor\n",
    "from autosklearn.metrics import mean_absolute_error as auto_mean_absolute_error"
   ]
  },
  {
   "cell_type": "code",
   "execution_count": null,
   "id": "07143269-42e7-4d3b-8d7f-783b756b4577",
   "metadata": {},
   "outputs": [],
   "source": []
  },
  {
   "cell_type": "code",
   "execution_count": 30,
   "id": "0f401257-223e-425b-9920-0e3f31302e38",
   "metadata": {},
   "outputs": [],
   "source": [
    "X_train, X_test, y_train, y_test = train_test_split(X, y, test_size=0.33, random_state=1)"
   ]
  },
  {
   "cell_type": "code",
   "execution_count": 32,
   "id": "be456880-6778-4f27-a270-73c92a6e491f",
   "metadata": {},
   "outputs": [
    {
     "name": "stdout",
     "output_type": "stream",
     "text": [
      "auto-sklearn results:\n",
      "  Dataset name: 8737c1b2-f8f5-11ee-bdb9-599d8c40c34c\n",
      "  Metric: r2\n",
      "  Best validation score: 0.949756\n",
      "  Number of target algorithm runs: 93\n",
      "  Number of successful target algorithm runs: 87\n",
      "  Number of crashed target algorithm runs: 5\n",
      "  Number of target algorithms that exceeded the time limit: 1\n",
      "  Number of target algorithms that exceeded the memory limit: 0\n",
      "\n"
     ]
    }
   ],
   "source": [
    "model = AutoSklearnRegressor(time_left_for_this_task=5*60, per_run_time_limit=30, n_jobs= -1)\n",
    "# perform the search\n",
    "model.fit(X_train, y_train)\n",
    "# summarize\n",
    "print(model.sprint_statistics())\n",
    "\n",
    "# evaluate best model\n",
    "y_hat = model.predict(X_test)\n",
    "mae = mean_absolute_error(y_test, y_hat)"
   ]
  },
  {
   "cell_type": "code",
   "execution_count": 39,
   "id": "ac362199-d263-4795-9f80-95122881e011",
   "metadata": {},
   "outputs": [
    {
     "name": "stdout",
     "output_type": "stream",
     "text": [
      "          rank  ensemble_weight               type      cost  duration\n",
      "model_id                                                              \n",
      "73           1             0.66   gaussian_process  0.050244  2.514036\n",
      "50           2             0.14   gaussian_process  0.051616  2.913706\n",
      "33           3             0.04  gradient_boosting  0.056719  1.520061\n",
      "84           4             0.16  gradient_boosting  0.057647  1.089221\n"
     ]
    }
   ],
   "source": [
    "print(model.leaderboard())"
   ]
  },
  {
   "cell_type": "code",
   "execution_count": 35,
   "id": "7dfc42f5-4e29-4338-8f60-6d805e8ba83e",
   "metadata": {},
   "outputs": [
    {
     "name": "stdout",
     "output_type": "stream",
     "text": [
      "MSE: 369.282\n",
      "MAE: 13.610\n",
      "r2_score: 0.948\n"
     ]
    }
   ],
   "source": [
    "r2 = r2_score(y_test,y_hat)\n",
    "mse = mean_squared_error(y_test,y_hat)\n",
    "print(\"MSE: %.3f\" % mse)\n",
    "print(\"MAE: %.3f\" % mae)\n",
    "print(\"r2_score: %.3f\" % r2)\n"
   ]
  },
  {
   "cell_type": "code",
   "execution_count": null,
   "id": "a3284ac3-4774-4058-a47b-c747cc20b7f4",
   "metadata": {},
   "outputs": [],
   "source": []
  },
  {
   "cell_type": "code",
   "execution_count": 18,
   "id": "ebffbaea-0348-40fe-9683-1c1d0f29a2f8",
   "metadata": {},
   "outputs": [
    {
     "data": {
      "image/png": "[encoded data removed]",
      "text/plain": [
       "<Figure size 800x600 with 1 Axes>"
      ]
     },
     "metadata": {},
     "output_type": "display_data"
    }
   ],
   "source": [
    "import matplotlib.pyplot as plt\n",
    "\n",
    "# Plotting the predicted values against the true values\n",
    "plt.figure(figsize=(8, 6))\n",
    "plt.scatter(y_test, y_hat, color='blue', alpha=0.5)  # Scatter plot of true vs predicted values\n",
    "plt.plot([min(y_test), max(y_test)], [min(y_test), max(y_test)], color='red')  # Diagonal line for reference\n",
    "plt.title('True vs Predicted Values')\n",
    "plt.xlabel('True Values')\n",
    "plt.ylabel('Predicted Values')\n",
    "plt.show()\n"
   ]
  },
  {
   "cell_type": "code",
   "execution_count": 40,
   "id": "668d6334-7422-4e83-96ee-cda893effbda",
   "metadata": {},
   "outputs": [],
   "source": [
    "import joblib"
   ]
  },
  {
   "cell_type": "code",
   "execution_count": 41,
   "id": "df83bf76-f9b8-465f-90ca-4afad7f07cb9",
   "metadata": {},
   "outputs": [
    {
     "data": {
      "text/plain": [
       "['label_encoder.pkl']"
      ]
     },
     "execution_count": 41,
     "metadata": {},
     "output_type": "execute_result"
    }
   ],
   "source": [
    "joblib.dump(model, 'trained_model.pkl')\n",
    "joblib.dump(label_encoder,'label_encoder.pkl')"
   ]
  },
  {
   "cell_type": "code",
   "execution_count": null,
   "id": "2c3e2c91-a039-4cb2-aca5-01fbeb464cad",
   "metadata": {},
   "outputs": [],
   "source": []
  }
 ],
 "metadata": {
  "kernelspec": {
   "display_name": "Python 3 (ipykernel)",
   "language": "python",
   "name": "python3"
  },
  "language_info": {
   "codemirror_mode": {
    "name": "ipython",
    "version": 3
   },
   "file_extension": ".py",
   "mimetype": "text/x-python",
   "name": "python",
   "nbconvert_exporter": "python",
   "pygments_lexer": "ipython3",
   "version": "3.10.12"
  }
 },
 "nbformat": 4,
 "nbformat_minor": 5
}
